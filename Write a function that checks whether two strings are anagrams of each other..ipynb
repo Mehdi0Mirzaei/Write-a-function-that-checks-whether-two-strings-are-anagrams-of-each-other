{
 "cells": [
  {
   "cell_type": "code",
   "execution_count": null,
   "id": "1e9d93f0",
   "metadata": {},
   "outputs": [],
   "source": [
    "def sieve_of_eratosthenes(limit):\n",
    "    if limit < 2:\n",
    "        return []\n",
    "\n",
    "    # Create a boolean list \"is_prime\" to mark numbers as prime or not\n",
    "    is_prime = [True] * (limit + 1)\n",
    "    is_prime[0] = is_prime[1] = False  # 0 and 1 are not prime\n",
    "\n",
    "    # Start with the first prime number, 2\n",
    "    p = 2\n",
    "    while p**2 <= limit:\n",
    "        # If p is prime, mark its multiples as not prime\n",
    "        if is_prime[p]:\n",
    "            for i in range(p**2, limit + 1, p):\n",
    "                is_prime[i] = False\n",
    "        p += 1\n",
    "\n",
    "    # Generate the list of prime numbers from the boolean list\n",
    "    primes = [i for i, prime in enumerate(is_prime) if prime]\n",
    "\n",
    "    return primes\n",
    "\n",
    "# Example usage:\n",
    "limit = 30\n",
    "prime_list = sieve_of_eratosthenes(limit)\n",
    "print(prime_list)\n"
   ]
  },
  {
   "cell_type": "code",
   "execution_count": null,
   "id": "9a85ec28",
   "metadata": {},
   "outputs": [],
   "source": []
  }
 ],
 "metadata": {
  "kernelspec": {
   "display_name": "Python 3 (ipykernel)",
   "language": "python",
   "name": "python3"
  },
  "language_info": {
   "codemirror_mode": {
    "name": "ipython",
    "version": 3
   },
   "file_extension": ".py",
   "mimetype": "text/x-python",
   "name": "python",
   "nbconvert_exporter": "python",
   "pygments_lexer": "ipython3",
   "version": "3.9.17"
  }
 },
 "nbformat": 4,
 "nbformat_minor": 5
}
